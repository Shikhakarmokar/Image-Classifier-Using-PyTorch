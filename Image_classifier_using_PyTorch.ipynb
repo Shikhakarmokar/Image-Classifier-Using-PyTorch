{
  "nbformat": 4,
  "nbformat_minor": 0,
  "metadata": {
    "colab": {
      "provenance": []
    },
    "kernelspec": {
      "name": "python3",
      "display_name": "Python 3"
    },
    "language_info": {
      "name": "python"
    }
  },
  "cells": [
    {
      "cell_type": "code",
      "execution_count": 3,
      "metadata": {
        "id": "DGxEvRMKfhkQ"
      },
      "outputs": [],
      "source": [
        "import torch\n",
        "import torch.nn as nn\n",
        "import torch.optim as optim\n",
        "from torchvision import datasets, transforms\n",
        "from torch.utils.data import DataLoader"
      ]
    },
    {
      "cell_type": "code",
      "source": [
        "device = torch.device(\"cuda\" if torch.cuda.is_available() else \"cpu\")"
      ],
      "metadata": {
        "id": "couxsTevgOkw"
      },
      "execution_count": 4,
      "outputs": []
    },
    {
      "cell_type": "code",
      "source": [
        "batch_size = 100\n",
        "learning_rate = 0.001\n",
        "num_epoch = 10"
      ],
      "metadata": {
        "id": "_Kct2G-VhADp"
      },
      "execution_count": 5,
      "outputs": []
    },
    {
      "cell_type": "code",
      "source": [
        "transform = transforms.Compose([transforms.ToTensor(),transforms.Normalize((0.5,),(0.5,))])"
      ],
      "metadata": {
        "id": "vcJ5U8UehVTQ"
      },
      "execution_count": 8,
      "outputs": []
    },
    {
      "cell_type": "code",
      "source": [
        "x = datasets.MNIST(root = \"./data\",train = True , transform = transform, download = True)\n",
        "y = datasets.MNIST(root = \"./data\",train = False, transform=transform, download = True)"
      ],
      "metadata": {
        "id": "anY_J54jhuN4"
      },
      "execution_count": 10,
      "outputs": []
    },
    {
      "cell_type": "code",
      "source": [
        "x_loader = DataLoader(dataset = x , batch_size = batch_size, shuffle = True)\n",
        "y_loader = DataLoader(dataset = y, batch_size= batch_size, shuffle = False)"
      ],
      "metadata": {
        "id": "N9rm5Q5dimrV"
      },
      "execution_count": 11,
      "outputs": []
    },
    {
      "cell_type": "code",
      "source": [
        "class CNN(nn.Module):\n",
        "  def __init__(self):\n",
        "    super(CNN,self).__init__()\n",
        "    self.conv1 = nn.Conv2d(1,32,kernel_size = 3,stride= 1,padding= 1)\n",
        "    self.conv2 = nn.Conv2d(32,64,kernel_size = 3,stride = 1,padding= 1)\n",
        "    self.pool = nn.MaxPool2d(kernel_size=2,stride=2)\n",
        "    self.fc1 = nn.Linear(64*7*7,128)\n",
        "    self.fc2 = nn.Linear(128,10)\n",
        "    self.relu = nn.ReLU()\n",
        "\n",
        "  def forward(self,x):\n",
        "    x = self.conv1(x)\n",
        "    x = self.pool(x)\n",
        "    x = self.relu(x)\n",
        "    x = self.conv2(x)\n",
        "    x = self.pool(x)\n",
        "    x = self.relu(x)\n",
        "    x = x.view(x.size(0),-1)\n",
        "    x = self.fc1(x)\n",
        "    x = self.relu(x)\n",
        "    x = self.fc2(x)\n",
        "    return x"
      ],
      "metadata": {
        "id": "6VA0k3qLjgDu"
      },
      "execution_count": 39,
      "outputs": []
    },
    {
      "cell_type": "code",
      "source": [
        "model = CNN().to(device)"
      ],
      "metadata": {
        "id": "LpGzz3QMmPFz"
      },
      "execution_count": 40,
      "outputs": []
    },
    {
      "cell_type": "code",
      "source": [
        "criterion = nn.CrossEntropyLoss()\n",
        "optimizer = optim.Adam(model.parameters(),lr=learning_rate)"
      ],
      "metadata": {
        "id": "DwYt2IUcn7lX"
      },
      "execution_count": 41,
      "outputs": []
    },
    {
      "cell_type": "code",
      "source": [
        "for epoch in range(num_epoch):\n",
        "  model.train()\n",
        "  running_loss = 0.0\n",
        "  for images, labels in x_loader:\n",
        "    images,labels = images.to(device),labels.to(device)\n",
        "\n",
        "    output = model(images)\n",
        "    loss = criterion(output,labels)\n",
        "\n",
        "    optimizer.zero_grad()\n",
        "    loss.backward()\n",
        "    optimizer.step()\n",
        "\n",
        "    running_loss += loss.item()\n",
        "  print(f'Epoch [{epoch + 1}/{num_epoch}], Loss: {running_loss / len(x_loader):.4f}')"
      ],
      "metadata": {
        "colab": {
          "base_uri": "https://localhost:8080/",
          "height": 0
        },
        "id": "6QhcKBYPoXOs",
        "outputId": "234a8c52-0b30-40e0-ffb9-d84ed4a9d8d7"
      },
      "execution_count": 42,
      "outputs": [
        {
          "output_type": "stream",
          "name": "stdout",
          "text": [
            "Epoch [1/10], Loss: 0.1948\n",
            "Epoch [2/10], Loss: 0.0501\n",
            "Epoch [3/10], Loss: 0.0350\n",
            "Epoch [4/10], Loss: 0.0264\n",
            "Epoch [5/10], Loss: 0.0219\n",
            "Epoch [6/10], Loss: 0.0161\n",
            "Epoch [7/10], Loss: 0.0124\n",
            "Epoch [8/10], Loss: 0.0112\n",
            "Epoch [9/10], Loss: 0.0098\n",
            "Epoch [10/10], Loss: 0.0081\n"
          ]
        }
      ]
    },
    {
      "cell_type": "code",
      "source": [
        "model.eval()\n",
        "correct = 0\n",
        "total = 0\n",
        "with torch.no_grad():\n",
        "  for images,labels in y_loader:\n",
        "    images,labels = images.to(device),labels.to(device)\n",
        "    output = model(images)\n",
        "    _, predicted = torch.max(output.data,1)\n",
        "    total += labels.size(0)\n",
        "    correct += (predicted == labels).sum().item()\n",
        "accuracy = 100*correct/total\n",
        "print(f\"Accuracy on test set: {accuracy:.2f}%\")"
      ],
      "metadata": {
        "colab": {
          "base_uri": "https://localhost:8080/",
          "height": 0
        },
        "id": "cpxNSiD9qidY",
        "outputId": "10c03f1b-bafa-44e5-e70e-4fc3db47927c"
      },
      "execution_count": 46,
      "outputs": [
        {
          "output_type": "stream",
          "name": "stdout",
          "text": [
            "Accuracy on test set: 99.14%\n"
          ]
        }
      ]
    },
    {
      "cell_type": "code",
      "source": [
        "torch.save(model.state_dict(),\"mnist-cnn.pth\")\n",
        "print(\"Model saved as mnist_cnn.pth\")"
      ],
      "metadata": {
        "colab": {
          "base_uri": "https://localhost:8080/",
          "height": 0
        },
        "id": "Gl85Ejopve5R",
        "outputId": "8293f4b2-abef-4769-8345-6cf07e0183d4"
      },
      "execution_count": 47,
      "outputs": [
        {
          "output_type": "stream",
          "name": "stdout",
          "text": [
            "Model saved as mnist_cnn.pth\n"
          ]
        }
      ]
    },
    {
      "cell_type": "code",
      "source": [],
      "metadata": {
        "id": "uFr7h0FiwPym"
      },
      "execution_count": null,
      "outputs": []
    }
  ]
}